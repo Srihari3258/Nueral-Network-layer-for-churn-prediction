{
 "cells": [
  {
   "cell_type": "code",
   "execution_count": 17,
   "metadata": {},
   "outputs": [],
   "source": [
    "import tensorflow as tf\n",
    "from tensorflow import keras\n",
    "from tensorflow.keras import layers, callbacks, regularizers\n",
    "from sklearn.model_selection import train_test_split,StratifiedKFold\n",
    "from sklearn.preprocessing import StandardScaler, OneHotEncoder, LabelEncoder\n",
    "from sklearn.compose import ColumnTransformer\n",
    "from sklearn.pipeline import Pipeline\n",
    "from sklearn.metrics import accuracy_score, precision_score, recall_score, f1_score, matthews_corrcoef, roc_auc_score, confusion_matrix, classification_report\n",
    "import pandas as pd\n",
    "import numpy as np\n",
    "from imblearn.combine import SMOTEENN\n",
    "from imblearn.combine import SMOTETomek\n",
    "from imblearn.over_sampling import SMOTE"
   ]
  },
  {
   "cell_type": "code",
   "execution_count": 18,
   "metadata": {},
   "outputs": [],
   "source": [
    "# Load the dataset\n",
    "file_path = \"Datasetforimplementation.csv\"\n",
    "df = pd.read_csv(file_path)\n",
    "\n"
   ]
  },
  {
   "cell_type": "code",
   "execution_count": 19,
   "metadata": {},
   "outputs": [],
   "source": [
    "df.drop(['RowNumber', 'CustomerId', 'Surname'], axis=1, inplace=True)\n",
    "\n"
   ]
  },
  {
   "cell_type": "code",
   "execution_count": 20,
   "metadata": {},
   "outputs": [],
   "source": [
    "Encoder = \"Label Encoder\"\n",
    "# Encoder = \"One-hot Encoder\"\n",
    "# OverSamplingTecnique = \"\"\n",
    "# OverSamplingTecnique = \"SMOTE\"\n",
    "# OverSamplingTecnique = \"SMOTE-Tomek\"\n",
    "OverSamplingTecnique = \"SMOTE-Enn\""
   ]
  },
  {
   "cell_type": "code",
   "execution_count": 21,
   "metadata": {},
   "outputs": [
    {
     "name": "stdout",
     "output_type": "stream",
     "text": [
      "Applying Label Encoder\n",
      "Label Encoder Transformation\n",
      "Geography  :  [0 2 1]  =  ['France' 'Spain' 'Germany']\n",
      "Gender  :  [0 1]  =  ['Female' 'Male']\n"
     ]
    }
   ],
   "source": [
    "if Encoder == \"Label Encoder\":\n",
    "  print(\"Applying Label Encoder\")\n",
    "  df_final = df.copy()\n",
    "  le = LabelEncoder()\n",
    "\n",
    "  text_data_features = ['Geography', 'Gender']\n",
    "\n",
    "  print('Label Encoder Transformation')\n",
    "  for i in text_data_features :\n",
    "      df_final[i] = le.fit_transform(df_final[i])\n",
    "      print(i,' : ',df_final[i].unique(),' = ',le.inverse_transform(df_final[i].unique()))\n",
    "\n",
    "\n",
    "\n",
    "  X = df_final.drop(['Exited'], axis=1).copy()\n",
    "  Y = df_final['Exited'].copy().astype(int)\n"
   ]
  },
  {
   "cell_type": "code",
   "execution_count": 22,
   "metadata": {},
   "outputs": [],
   "source": [
    "if Encoder == \"One-hot Encoder\":\n",
    "  print(\"Applying One-hot Encoder\")\n",
    "\n",
    "  # One-hot encode categorical columns\n",
    "  categorical_columns = ['Geography', 'Gender']\n",
    "\n",
    "  encoder = OneHotEncoder()\n",
    "  encoded_features = encoder.fit_transform(df[categorical_columns]).toarray()\n",
    "\n",
    "  # Combine one-hot encoded features with numerical features\n",
    "  numerical_features = df.drop(categorical_columns + ['Exited'], axis=1)\n",
    "  X = np.hstack((encoded_features, numerical_features))\n",
    "\n",
    "  # Manually encode 'Exited' column\n",
    "  # df['Exited'] = df['Exited'].apply(lambda x: 1 if x == 'Yes' else 0)\n",
    "  # Extract the target variable Y\n",
    "  Y = df['Exited'].values\n",
    "\n",
    "\n",
    "  # Ensure all data is in float format\n",
    "  X = X.astype(float)\n",
    "  Y = Y.astype(int)\n",
    "\n"
   ]
  },
  {
   "cell_type": "code",
   "execution_count": 23,
   "metadata": {},
   "outputs": [],
   "source": [
    "scaler = StandardScaler()\n",
    "X_resampled_scaled = scaler.fit_transform(X)\n",
    "X=X_resampled_scaled\n",
    "Y=Y"
   ]
  },
  {
   "cell_type": "code",
   "execution_count": 24,
   "metadata": {},
   "outputs": [
    {
     "name": "stdout",
     "output_type": "stream",
     "text": [
      "Applying SMOTE-Enn\n"
     ]
    }
   ],
   "source": [
    "\n",
    "if OverSamplingTecnique == \"SMOTE-Enn\":\n",
    "  print(\"Applying SMOTE-Enn\")\n",
    "\n",
    "  smote_enn = SMOTEENN()\n",
    "  X_resampled, y_resampled = smote_enn.fit_resample(X, Y)\n",
    "  scaler = StandardScaler()\n",
    "  X_resampled_scaled = scaler.fit_transform(X_resampled)\n",
    "  X=X_resampled_scaled\n",
    "  y=y_resampled"
   ]
  },
  {
   "cell_type": "code",
   "execution_count": 25,
   "metadata": {},
   "outputs": [],
   "source": [
    "# Split data\n",
    "X_train, X_test, y_train, y_test = train_test_split(X, y, test_size=0.2, random_state=42, stratify=y)"
   ]
  },
  {
   "cell_type": "code",
   "execution_count": 26,
   "metadata": {},
   "outputs": [],
   "source": [
    "def residual_block(x, units):\n",
    "    shortcut = layers.Dense(units, kernel_regularizer=regularizers.l2(0.001))(x)  # Projection layer\n",
    "    residual = layers.Dense(units, activation='relu', kernel_regularizer=regularizers.l2(0.001))(x)\n",
    "    residual = layers.BatchNormalization()(residual)\n",
    "    residual = layers.Dense(units, activation='relu', kernel_regularizer=regularizers.l2(0.001))(residual)\n",
    "    return layers.Add()([shortcut, residual])\n",
    "\n",
    "\n",
    "def spatial_attention(x):\n",
    "    attention = layers.Dense(1, activation='sigmoid')(x)\n",
    "    return layers.Multiply()([x, attention])\n",
    "\n",
    "def create_churn_model(input_shape):\n",
    "    inputs = layers.Input(shape=(input_shape,))\n",
    "    x = layers.Dense(256, activation='relu', kernel_regularizer=regularizers.l2(0.001))(inputs)\n",
    "    x = layers.BatchNormalization()(x)\n",
    "    x = layers.Dropout(0.25)(x)\n",
    "    x = residual_block(x, 128)\n",
    "    x = layers.Dropout(0.25)(x)\n",
    "    x = residual_block(x, 64)\n",
    "    x = spatial_attention(x)\n",
    "    x = layers.Flatten()(x)\n",
    "    x = layers.Dense(32, activation='relu', kernel_regularizer=regularizers.l2(0.001))(x)\n",
    "    x = layers.BatchNormalization()(x)\n",
    "    outputs = layers.Dense(1, activation='sigmoid')(x)\n",
    "    \n",
    "    model = keras.Model(inputs, outputs)\n",
    "    model.compile(\n",
    "        optimizer=keras.optimizers.Adam(learning_rate=0.0005),\n",
    "        loss='binary_crossentropy',\n",
    "        metrics=['accuracy']\n",
    "    )\n",
    "    return model"
   ]
  },
  {
   "cell_type": "code",
   "execution_count": 27,
   "metadata": {},
   "outputs": [],
   "source": [
    "# Enable XLA compilation for performance improvement\n",
    "tf.config.optimizer.set_jit(True)"
   ]
  },
  {
   "cell_type": "code",
   "execution_count": 28,
   "metadata": {},
   "outputs": [
    {
     "name": "stdout",
     "output_type": "stream",
     "text": [
      "\u001b[1m38/38\u001b[0m \u001b[32m━━━━━━━━━━━━━━━━━━━━\u001b[0m\u001b[37m\u001b[0m \u001b[1m0s\u001b[0m 2ms/step\n",
      "\u001b[1m38/38\u001b[0m \u001b[32m━━━━━━━━━━━━━━━━━━━━\u001b[0m\u001b[37m\u001b[0m \u001b[1m0s\u001b[0m 1ms/step  \n",
      "\u001b[1m38/38\u001b[0m \u001b[32m━━━━━━━━━━━━━━━━━━━━\u001b[0m\u001b[37m\u001b[0m \u001b[1m0s\u001b[0m 4ms/step\n",
      "\u001b[1m38/38\u001b[0m \u001b[32m━━━━━━━━━━━━━━━━━━━━\u001b[0m\u001b[37m\u001b[0m \u001b[1m0s\u001b[0m 4ms/step\n",
      "\u001b[1m38/38\u001b[0m \u001b[32m━━━━━━━━━━━━━━━━━━━━\u001b[0m\u001b[37m\u001b[0m \u001b[1m0s\u001b[0m 4ms/step\n",
      "\u001b[1m38/38\u001b[0m \u001b[32m━━━━━━━━━━━━━━━━━━━━\u001b[0m\u001b[37m\u001b[0m \u001b[1m0s\u001b[0m 4ms/step\n",
      "\u001b[1m38/38\u001b[0m \u001b[32m━━━━━━━━━━━━━━━━━━━━\u001b[0m\u001b[37m\u001b[0m \u001b[1m0s\u001b[0m 4ms/step\n",
      "\u001b[1m38/38\u001b[0m \u001b[32m━━━━━━━━━━━━━━━━━━━━\u001b[0m\u001b[37m\u001b[0m \u001b[1m1s\u001b[0m 4ms/step \n",
      "\u001b[1m38/38\u001b[0m \u001b[32m━━━━━━━━━━━━━━━━━━━━\u001b[0m\u001b[37m\u001b[0m \u001b[1m0s\u001b[0m 5ms/step\n",
      "\u001b[1m38/38\u001b[0m \u001b[32m━━━━━━━━━━━━━━━━━━━━\u001b[0m\u001b[37m\u001b[0m \u001b[1m0s\u001b[0m 4ms/step\n",
      "Average Accuracy: 0.9713635071474982\n",
      "Average Precision: 0.9632988301750656\n",
      "Average Recall: 0.986863867549105\n",
      "Average F1 Score: 0.9749216423735139\n",
      "Average MCC Score: 0.9419826388959256\n",
      "Average ROC AUC Score: 0.9943335912761146\n"
     ]
    }
   ],
   "source": [
    "# K-Fold Cross Validation\n",
    "kf = StratifiedKFold(n_splits=10, shuffle=True, random_state=42)\n",
    "\n",
    "accuracies, precisions, recalls, f1_scores, mcc_scores, roc_aucs = [], [], [], [], [], []\n",
    "\n",
    "for train_index, test_index in kf.split(X, y):\n",
    "    X_train, X_test = X[train_index], X[test_index]\n",
    "    y_train, y_test = y.iloc[train_index], y.iloc[test_index]\n",
    "    \n",
    "    model = create_churn_model(X_train.shape[1])\n",
    "\n",
    "    \n",
    "    early_stopping = callbacks.EarlyStopping(monitor='val_loss', patience=5, restore_best_weights=True)\n",
    "    reduce_lr = callbacks.ReduceLROnPlateau(monitor='val_loss', factor=0.5, patience=3)\n",
    "    model.compile(optimizer='ADAM', loss='binary_crossentropy', metrics=['accuracy'])\n",
    "    model.fit(X_train, y_train, epochs=50, batch_size=64, validation_data=(X_test, y_test), verbose=0, \n",
    "              callbacks=[early_stopping, reduce_lr])\n",
    "    \n",
    "    y_pred_prob = model.predict(X_test)\n",
    "    y_pred = (y_pred_prob > 0.5).astype(int)\n",
    "    \n",
    "    accuracies.append(accuracy_score(y_test, y_pred))\n",
    "    precisions.append(precision_score(y_test, y_pred))\n",
    "    recalls.append(recall_score(y_test, y_pred))\n",
    "    f1_scores.append(f1_score(y_test, y_pred))\n",
    "    mcc_scores.append(matthews_corrcoef(y_test, y_pred))\n",
    "    roc_aucs.append(roc_auc_score(y_test, y_pred_prob))\n",
    "\n",
    "print(\"Average Accuracy:\", np.mean(accuracies))\n",
    "print(\"Average Precision:\", np.mean(precisions))\n",
    "print(\"Average Recall:\", np.mean(recalls))\n",
    "print(\"Average F1 Score:\", np.mean(f1_scores))\n",
    "print(\"Average MCC Score:\", np.mean(mcc_scores))\n",
    "print(\"Average ROC AUC Score:\", np.mean(roc_aucs))"
   ]
  },
  {
   "cell_type": "code",
   "execution_count": 29,
   "metadata": {},
   "outputs": [],
   "source": [
    "# Initialize model\n",
    "# input_shape = (X_train.shape[1],)\n",
    "# model = create_churn_model(input_shape)\n",
    "# model.summary()\n",
    "\n"
   ]
  },
  {
   "cell_type": "code",
   "execution_count": 30,
   "metadata": {},
   "outputs": [],
   "source": [
    "# Train the model\n",
    "# history = model.fit(X_train, y_train, validation_data=(X_test, y_test), epochs=30, batch_size=32)\n",
    "\n"
   ]
  },
  {
   "cell_type": "code",
   "execution_count": 31,
   "metadata": {},
   "outputs": [],
   "source": [
    "# Evaluate the model\n",
    "# y_pred_prob = model.predict(X_test)\n",
    "# y_pred = (y_pred_prob > 0.5).astype(int)\n",
    "\n",
    "# accuracy = accuracy_score(y_test, y_pred)\n",
    "# precision = precision_score(y_test, y_pred)\n",
    "# recall = recall_score(y_test, y_pred)\n",
    "# f1 = f1_score(y_test, y_pred)\n",
    "# roc_auc = roc_auc_score(y_test, y_pred_prob)\n",
    "# conf_matrix = confusion_matrix(y_test, y_pred)\n",
    "# class_report = classification_report(y_test, y_pred)\n",
    "\n",
    "# print(\"Accuracy:\", accuracy)\n",
    "# print(\"Precision:\", precision)\n",
    "# print(\"Recall:\", recall)\n",
    "# print(\"F1 Score:\", f1)\n",
    "# print(\"ROC AUC Score:\", roc_auc)\n",
    "# print(\"Confusion Matrix:\\n\", conf_matrix)\n",
    "# print(\"Classification Report:\\n\", class_report)"
   ]
  }
 ],
 "metadata": {
  "kernelspec": {
   "display_name": "Python 3",
   "language": "python",
   "name": "python3"
  },
  "language_info": {
   "codemirror_mode": {
    "name": "ipython",
    "version": 3
   },
   "file_extension": ".py",
   "mimetype": "text/x-python",
   "name": "python",
   "nbconvert_exporter": "python",
   "pygments_lexer": "ipython3",
   "version": "3.12.2"
  }
 },
 "nbformat": 4,
 "nbformat_minor": 2
}
